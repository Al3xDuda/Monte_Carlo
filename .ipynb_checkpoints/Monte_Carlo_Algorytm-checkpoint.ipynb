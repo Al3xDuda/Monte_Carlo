{
 "cells": [
  {
   "cell_type": "code",
   "execution_count": null,
   "id": "initial_id",
   "metadata": {
    "collapsed": true,
    "jupyter": {
     "outputs_hidden": true
    }
   },
   "outputs": [],
   "source": [
    "import pandas as pd\n",
    "import numpy as np\n",
    "import matplotlib.pyplot as plt\n",
    "import time\n",
    "\n",
    "np.random.seed(111)\n"
   ]
  },
  {
   "cell_type": "code",
   "execution_count": null,
   "id": "8feac3c4-94a2-44d5-842b-840851f057ce",
   "metadata": {},
   "outputs": [],
   "source": [
    "#try different numerical estimations?\n",
    "def Monte_Carlo_PI(n): #n - number of points to draw\n",
    "    def boundry_values(x):\n",
    "        return np.sqrt(1-x*x)\n",
    "    #n - number of points to draw\n",
    "    x=np.random.uniform(0,1,n)\n",
    "    y=np.random.uniform(0,1,n)\n",
    "    #try different sampling methods?\n",
    "    within=y<boundry_values(x)\n",
    "    pi=4*sum(within)/n\n",
    "    return [pi,x,y,within]\n"
   ]
  }
 ],
 "metadata": {
  "kernelspec": {
   "display_name": "Python 3 (ipykernel)",
   "language": "python",
   "name": "python3"
  },
  "language_info": {
   "codemirror_mode": {
    "name": "ipython",
    "version": 3
   },
   "file_extension": ".py",
   "mimetype": "text/x-python",
   "name": "python",
   "nbconvert_exporter": "python",
   "pygments_lexer": "ipython3",
   "version": "3.11.8"
  }
 },
 "nbformat": 4,
 "nbformat_minor": 5
}
